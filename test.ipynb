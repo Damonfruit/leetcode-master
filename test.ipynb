{
 "cells": [
  {
   "cell_type": "code",
   "execution_count": null,
   "metadata": {},
   "outputs": [],
   "source": [
    "class Solution:\n",
    "    def preorderTraversal(self, root: TreeNode) -> List[int]:\n",
    "        # 保存结果\n",
    "        result = []\n",
    "        \n",
    "        def traversal(root: TreeNode):\n",
    "            if root == None:\n",
    "                return\n",
    "            result.append(root.val) # 前序\n",
    "            traversal(root.left)    # 左\n",
    "            traversal(root.right)   # 右\n",
    "\n",
    "        traversal(root)\n",
    "        return result"
   ]
  }
 ],
 "metadata": {
  "kernelspec": {
   "display_name": "Python 2.7.10 32-bit",
   "language": "python",
   "name": "python3"
  },
  "language_info": {
   "name": "python",
   "version": "2.7.10"
  },
  "orig_nbformat": 4,
  "vscode": {
   "interpreter": {
    "hash": "ac5cae9ce6d4d1adfa5b64a6642d3ae94a29e8ac602127ee900aed5df438a4d2"
   }
  }
 },
 "nbformat": 4,
 "nbformat_minor": 2
}
